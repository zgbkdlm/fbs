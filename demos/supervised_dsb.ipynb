{
 "cells": [
  {
   "cell_type": "code",
   "execution_count": 29,
   "outputs": [],
   "source": [
    "\"\"\"\n",
    "Test supervised DSB.\n",
    "\"\"\"\n",
    "import math\n",
    "import jax\n",
    "import jax.numpy as jnp\n",
    "import numpy as np\n",
    "import optax\n",
    "import matplotlib.pyplot as plt\n",
    "from flax import linen as nn\n",
    "from fbs.nn.utils import make_nn_with_time\n",
    "from functools import partial"
   ],
   "metadata": {
    "collapsed": false,
    "ExecuteTime": {
     "end_time": "2023-11-09T08:04:37.713759640Z",
     "start_time": "2023-11-09T08:04:37.658269889Z"
    }
   },
   "id": "5be649693455db59"
  },
  {
   "cell_type": "code",
   "execution_count": 30,
   "outputs": [
    {
     "data": {
      "text/plain": "<matplotlib.collections.PathCollection at 0x7fd7d8677eb0>"
     },
     "execution_count": 30,
     "metadata": {},
     "output_type": "execute_result"
    },
    {
     "data": {
      "text/plain": "<Figure size 1200x500 with 2 Axes>",
      "image/png": "[encoded data removed]"
     },
     "metadata": {},
     "output_type": "display_data"
    }
   ],
   "source": [
    "# General configs\n",
    "nsamples = 100\n",
    "jax.config.update(\"jax_enable_x64\", True)\n",
    "nn_param_init = nn.initializers.xavier_normal()\n",
    "key = jax.random.PRNGKey(666)\n",
    "\n",
    "dt = 0.01\n",
    "nsteps = 200\n",
    "T = nsteps * dt\n",
    "ts = jnp.linspace(dt, T, nsteps)\n",
    "\n",
    "\n",
    "# Neural network construction\n",
    "class MLP(nn.Module):\n",
    "    @nn.compact\n",
    "    def __call__(self, x):\n",
    "        x = nn.Dense(features=100, param_dtype=jnp.float64, kernel_init=nn_param_init)(x)\n",
    "        x = nn.gelu(x)\n",
    "        x = nn.Dense(features=20, param_dtype=jnp.float64, kernel_init=nn_param_init)(x)\n",
    "        x = nn.gelu(x)\n",
    "        x = nn.Dense(features=2, param_dtype=jnp.float64, kernel_init=nn_param_init)(x)\n",
    "        return jnp.squeeze(x)\n",
    "\n",
    "\n",
    "mlp = MLP()\n",
    "key, subkey = jax.random.split(key)\n",
    "init_param, _, nn_eval = make_nn_with_time(mlp, dim_in=2, batch_size=10, key=subkey)\n",
    "\n",
    "# Draw samples on the two sides\n",
    "np.random.seed(999)\n",
    "\n",
    "\n",
    "@partial(jax.vmap, in_axes=[0])\n",
    "def f1(z):\n",
    "    \"\"\"x = f1(z)\"\"\"\n",
    "    u = jnp.sin(0.5 * z)\n",
    "    return jnp.array([(u[0] + u[1]) / 2, u[0] * u[1]])\n",
    "\n",
    "\n",
    "@partial(jax.vmap, in_axes=[0])\n",
    "def f2(x):\n",
    "    \"\"\"y = f2(x)\"\"\"\n",
    "    u = jnp.tanh(2 * x)\n",
    "    return jnp.array([u[0] * u[1], (u[0] + u[1]) / 2])\n",
    "\n",
    "\n",
    "key, subkey = jax.random.split(key)\n",
    "zs = jax.random.normal(subkey, (nsamples, 2))\n",
    "xs = f1(zs)\n",
    "ys = f2(xs)\n",
    "\n",
    "fig, axes = plt.subplots(ncols=2, figsize=(12, 5))\n",
    "axes[0].scatter(xs[:, 0], xs[:, 1], s=1)\n",
    "axes[1].scatter(ys[:, 0], ys[:, 1], s=1)"
   ],
   "metadata": {
    "collapsed": false,
    "ExecuteTime": {
     "end_time": "2023-11-09T08:04:39.032051279Z",
     "start_time": "2023-11-09T08:04:37.701053910Z"
    }
   },
   "id": "initial_id"
  },
  {
   "cell_type": "code",
   "execution_count": 31,
   "outputs": [
    {
     "ename": "KeyboardInterrupt",
     "evalue": "",
     "output_type": "error",
     "traceback": [
      "\u001B[0;31m---------------------------------------------------------------------------\u001B[0m",
      "\u001B[0;31mKeyboardInterrupt\u001B[0m                         Traceback (most recent call last)",
      "Cell \u001B[0;32mIn[31], line 22\u001B[0m\n\u001B[1;32m     18\u001B[0m     \u001B[38;5;28;01mreturn\u001B[39;00m jnp\u001B[38;5;241m.\u001B[39mconcatenate([traj, xT\u001B[38;5;241m.\u001B[39mreshape(\u001B[38;5;241m1\u001B[39m, \u001B[38;5;241m-\u001B[39m\u001B[38;5;241m1\u001B[39m)])\n\u001B[1;32m     21\u001B[0m key, subkey \u001B[38;5;241m=\u001B[39m jax\u001B[38;5;241m.\u001B[39mrandom\u001B[38;5;241m.\u001B[39msplit(key)\n\u001B[0;32m---> 22\u001B[0m keys \u001B[38;5;241m=\u001B[39m \u001B[43mjax\u001B[49m\u001B[38;5;241;43m.\u001B[39;49m\u001B[43mrandom\u001B[49m\u001B[38;5;241;43m.\u001B[39;49m\u001B[43msplit\u001B[49m\u001B[43m(\u001B[49m\u001B[43msubkey\u001B[49m\u001B[43m,\u001B[49m\u001B[43m \u001B[49m\u001B[43mnum\u001B[49m\u001B[38;5;241;43m=\u001B[39;49m\u001B[43mnsamples\u001B[49m\u001B[43m)\u001B[49m\n\u001B[1;32m     23\u001B[0m trajs \u001B[38;5;241m=\u001B[39m jax\u001B[38;5;241m.\u001B[39mvmap(simulate_bridge_forward, in_axes\u001B[38;5;241m=\u001B[39m[\u001B[38;5;241m0\u001B[39m, \u001B[38;5;241m0\u001B[39m, \u001B[38;5;241m0\u001B[39m])(xs, ys, keys)\n\u001B[1;32m     25\u001B[0m fig, axes \u001B[38;5;241m=\u001B[39m plt\u001B[38;5;241m.\u001B[39msubplots(ncols\u001B[38;5;241m=\u001B[39m\u001B[38;5;241m5\u001B[39m, figsize\u001B[38;5;241m=\u001B[39m(\u001B[38;5;241m12\u001B[39m, \u001B[38;5;241m5\u001B[39m))\n",
      "File \u001B[0;32m~/Research/conditional_dsb/venv/lib/python3.10/site-packages/jax/_src/random.py:308\u001B[0m, in \u001B[0;36msplit\u001B[0;34m(key, num)\u001B[0m\n\u001B[1;32m    297\u001B[0m \u001B[38;5;250m\u001B[39m\u001B[38;5;124;03m\"\"\"Splits a PRNG key into `num` new keys by adding a leading axis.\u001B[39;00m\n\u001B[1;32m    298\u001B[0m \n\u001B[1;32m    299\u001B[0m \u001B[38;5;124;03mArgs:\u001B[39;00m\n\u001B[0;32m   (...)\u001B[0m\n\u001B[1;32m    305\u001B[0m \u001B[38;5;124;03m  An array-like object of `num` new PRNG keys.\u001B[39;00m\n\u001B[1;32m    306\u001B[0m \u001B[38;5;124;03m\"\"\"\u001B[39;00m\n\u001B[1;32m    307\u001B[0m typed_key, wrapped \u001B[38;5;241m=\u001B[39m _check_prng_key(key)\n\u001B[0;32m--> 308\u001B[0m \u001B[38;5;28;01mreturn\u001B[39;00m _return_prng_keys(wrapped, \u001B[43m_split\u001B[49m\u001B[43m(\u001B[49m\u001B[43mtyped_key\u001B[49m\u001B[43m,\u001B[49m\u001B[43m \u001B[49m\u001B[43mnum\u001B[49m\u001B[43m)\u001B[49m)\n",
      "File \u001B[0;32m~/Research/conditional_dsb/venv/lib/python3.10/site-packages/jax/_src/random.py:294\u001B[0m, in \u001B[0;36m_split\u001B[0;34m(key, num)\u001B[0m\n\u001B[1;32m    291\u001B[0m   \u001B[38;5;28;01mraise\u001B[39;00m \u001B[38;5;167;01mTypeError\u001B[39;00m(\u001B[38;5;124m\"\u001B[39m\u001B[38;5;124msplit accepts a single key, but was given a key array of\u001B[39m\u001B[38;5;124m\"\u001B[39m\n\u001B[1;32m    292\u001B[0m                   \u001B[38;5;124mf\u001B[39m\u001B[38;5;124m\"\u001B[39m\u001B[38;5;124mshape \u001B[39m\u001B[38;5;132;01m{\u001B[39;00mkey\u001B[38;5;241m.\u001B[39mshape\u001B[38;5;132;01m}\u001B[39;00m\u001B[38;5;124m != (). Use jax.vmap for batching.\u001B[39m\u001B[38;5;124m\"\u001B[39m)\n\u001B[1;32m    293\u001B[0m shape \u001B[38;5;241m=\u001B[39m \u001B[38;5;28mtuple\u001B[39m(num) \u001B[38;5;28;01mif\u001B[39;00m \u001B[38;5;28misinstance\u001B[39m(num, Sequence) \u001B[38;5;28;01melse\u001B[39;00m (num,)\n\u001B[0;32m--> 294\u001B[0m \u001B[38;5;28;01mreturn\u001B[39;00m \u001B[43mprng\u001B[49m\u001B[38;5;241;43m.\u001B[39;49m\u001B[43mrandom_split\u001B[49m\u001B[43m(\u001B[49m\u001B[43mkey\u001B[49m\u001B[43m,\u001B[49m\u001B[43m \u001B[49m\u001B[43mshape\u001B[49m\u001B[38;5;241;43m=\u001B[39;49m\u001B[43mshape\u001B[49m\u001B[43m)\u001B[49m\n",
      "File \u001B[0;32m~/Research/conditional_dsb/venv/lib/python3.10/site-packages/jax/_src/prng.py:736\u001B[0m, in \u001B[0;36mrandom_split\u001B[0;34m(keys, shape)\u001B[0m\n\u001B[1;32m    735\u001B[0m \u001B[38;5;28;01mdef\u001B[39;00m \u001B[38;5;21mrandom_split\u001B[39m(keys, shape: Shape):\n\u001B[0;32m--> 736\u001B[0m   \u001B[38;5;28;01mreturn\u001B[39;00m \u001B[43mrandom_split_p\u001B[49m\u001B[38;5;241;43m.\u001B[39;49m\u001B[43mbind\u001B[49m\u001B[43m(\u001B[49m\u001B[43mkeys\u001B[49m\u001B[43m,\u001B[49m\u001B[43m \u001B[49m\u001B[43mshape\u001B[49m\u001B[38;5;241;43m=\u001B[39;49m\u001B[43mshape\u001B[49m\u001B[43m)\u001B[49m\n",
      "File \u001B[0;32m~/Research/conditional_dsb/venv/lib/python3.10/site-packages/jax/_src/core.py:385\u001B[0m, in \u001B[0;36mPrimitive.bind\u001B[0;34m(self, *args, **params)\u001B[0m\n\u001B[1;32m    382\u001B[0m \u001B[38;5;28;01mdef\u001B[39;00m \u001B[38;5;21mbind\u001B[39m(\u001B[38;5;28mself\u001B[39m, \u001B[38;5;241m*\u001B[39margs, \u001B[38;5;241m*\u001B[39m\u001B[38;5;241m*\u001B[39mparams):\n\u001B[1;32m    383\u001B[0m   \u001B[38;5;28;01massert\u001B[39;00m (\u001B[38;5;129;01mnot\u001B[39;00m config\u001B[38;5;241m.\u001B[39menable_checks\u001B[38;5;241m.\u001B[39mvalue \u001B[38;5;129;01mor\u001B[39;00m\n\u001B[1;32m    384\u001B[0m           \u001B[38;5;28mall\u001B[39m(\u001B[38;5;28misinstance\u001B[39m(arg, Tracer) \u001B[38;5;129;01mor\u001B[39;00m valid_jaxtype(arg) \u001B[38;5;28;01mfor\u001B[39;00m arg \u001B[38;5;129;01min\u001B[39;00m args)), args\n\u001B[0;32m--> 385\u001B[0m   \u001B[38;5;28;01mreturn\u001B[39;00m \u001B[38;5;28;43mself\u001B[39;49m\u001B[38;5;241;43m.\u001B[39;49m\u001B[43mbind_with_trace\u001B[49m\u001B[43m(\u001B[49m\u001B[43mfind_top_trace\u001B[49m\u001B[43m(\u001B[49m\u001B[43margs\u001B[49m\u001B[43m)\u001B[49m\u001B[43m,\u001B[49m\u001B[43m \u001B[49m\u001B[43margs\u001B[49m\u001B[43m,\u001B[49m\u001B[43m \u001B[49m\u001B[43mparams\u001B[49m\u001B[43m)\u001B[49m\n",
      "File \u001B[0;32m~/Research/conditional_dsb/venv/lib/python3.10/site-packages/jax/_src/core.py:388\u001B[0m, in \u001B[0;36mPrimitive.bind_with_trace\u001B[0;34m(self, trace, args, params)\u001B[0m\n\u001B[1;32m    387\u001B[0m \u001B[38;5;28;01mdef\u001B[39;00m \u001B[38;5;21mbind_with_trace\u001B[39m(\u001B[38;5;28mself\u001B[39m, trace, args, params):\n\u001B[0;32m--> 388\u001B[0m   out \u001B[38;5;241m=\u001B[39m \u001B[43mtrace\u001B[49m\u001B[38;5;241;43m.\u001B[39;49m\u001B[43mprocess_primitive\u001B[49m\u001B[43m(\u001B[49m\u001B[38;5;28;43mself\u001B[39;49m\u001B[43m,\u001B[49m\u001B[43m \u001B[49m\u001B[38;5;28;43mmap\u001B[39;49m\u001B[43m(\u001B[49m\u001B[43mtrace\u001B[49m\u001B[38;5;241;43m.\u001B[39;49m\u001B[43mfull_raise\u001B[49m\u001B[43m,\u001B[49m\u001B[43m \u001B[49m\u001B[43margs\u001B[49m\u001B[43m)\u001B[49m\u001B[43m,\u001B[49m\u001B[43m \u001B[49m\u001B[43mparams\u001B[49m\u001B[43m)\u001B[49m\n\u001B[1;32m    389\u001B[0m   \u001B[38;5;28;01mreturn\u001B[39;00m \u001B[38;5;28mmap\u001B[39m(full_lower, out) \u001B[38;5;28;01mif\u001B[39;00m \u001B[38;5;28mself\u001B[39m\u001B[38;5;241m.\u001B[39mmultiple_results \u001B[38;5;28;01melse\u001B[39;00m full_lower(out)\n",
      "File \u001B[0;32m~/Research/conditional_dsb/venv/lib/python3.10/site-packages/jax/_src/core.py:868\u001B[0m, in \u001B[0;36mEvalTrace.process_primitive\u001B[0;34m(self, primitive, tracers, params)\u001B[0m\n\u001B[1;32m    867\u001B[0m \u001B[38;5;28;01mdef\u001B[39;00m \u001B[38;5;21mprocess_primitive\u001B[39m(\u001B[38;5;28mself\u001B[39m, primitive, tracers, params):\n\u001B[0;32m--> 868\u001B[0m   \u001B[38;5;28;01mreturn\u001B[39;00m \u001B[43mprimitive\u001B[49m\u001B[38;5;241;43m.\u001B[39;49m\u001B[43mimpl\u001B[49m\u001B[43m(\u001B[49m\u001B[38;5;241;43m*\u001B[39;49m\u001B[43mtracers\u001B[49m\u001B[43m,\u001B[49m\u001B[43m \u001B[49m\u001B[38;5;241;43m*\u001B[39;49m\u001B[38;5;241;43m*\u001B[39;49m\u001B[43mparams\u001B[49m\u001B[43m)\u001B[49m\n",
      "File \u001B[0;32m~/Research/conditional_dsb/venv/lib/python3.10/site-packages/jax/_src/prng.py:748\u001B[0m, in \u001B[0;36mrandom_split_impl\u001B[0;34m(keys, shape)\u001B[0m\n\u001B[1;32m    746\u001B[0m \u001B[38;5;129m@random_split_p\u001B[39m\u001B[38;5;241m.\u001B[39mdef_impl\n\u001B[1;32m    747\u001B[0m \u001B[38;5;28;01mdef\u001B[39;00m \u001B[38;5;21mrandom_split_impl\u001B[39m(keys, \u001B[38;5;241m*\u001B[39m, shape):\n\u001B[0;32m--> 748\u001B[0m   base_arr \u001B[38;5;241m=\u001B[39m \u001B[43mrandom_split_impl_base\u001B[49m\u001B[43m(\u001B[49m\n\u001B[1;32m    749\u001B[0m \u001B[43m      \u001B[49m\u001B[43mkeys\u001B[49m\u001B[38;5;241;43m.\u001B[39;49m\u001B[43m_impl\u001B[49m\u001B[43m,\u001B[49m\u001B[43m \u001B[49m\u001B[43mkeys\u001B[49m\u001B[38;5;241;43m.\u001B[39;49m\u001B[43m_base_array\u001B[49m\u001B[43m,\u001B[49m\u001B[43m \u001B[49m\u001B[43mkeys\u001B[49m\u001B[38;5;241;43m.\u001B[39;49m\u001B[43mndim\u001B[49m\u001B[43m,\u001B[49m\u001B[43m \u001B[49m\u001B[43mshape\u001B[49m\u001B[38;5;241;43m=\u001B[39;49m\u001B[43mshape\u001B[49m\u001B[43m)\u001B[49m\n\u001B[1;32m    750\u001B[0m   \u001B[38;5;28;01mreturn\u001B[39;00m PRNGKeyArrayImpl(keys\u001B[38;5;241m.\u001B[39m_impl, base_arr)\n",
      "File \u001B[0;32m~/Research/conditional_dsb/venv/lib/python3.10/site-packages/jax/_src/prng.py:754\u001B[0m, in \u001B[0;36mrandom_split_impl_base\u001B[0;34m(impl, base_arr, keys_ndim, shape)\u001B[0m\n\u001B[1;32m    752\u001B[0m \u001B[38;5;28;01mdef\u001B[39;00m \u001B[38;5;21mrandom_split_impl_base\u001B[39m(impl, base_arr, keys_ndim, \u001B[38;5;241m*\u001B[39m, shape):\n\u001B[1;32m    753\u001B[0m   split \u001B[38;5;241m=\u001B[39m iterated_vmap_unary(keys_ndim, \u001B[38;5;28;01mlambda\u001B[39;00m k: impl\u001B[38;5;241m.\u001B[39msplit(k, shape))\n\u001B[0;32m--> 754\u001B[0m   \u001B[38;5;28;01mreturn\u001B[39;00m \u001B[43msplit\u001B[49m\u001B[43m(\u001B[49m\u001B[43mbase_arr\u001B[49m\u001B[43m)\u001B[49m\n",
      "File \u001B[0;32m~/Research/conditional_dsb/venv/lib/python3.10/site-packages/jax/_src/prng.py:753\u001B[0m, in \u001B[0;36mrandom_split_impl_base.<locals>.<lambda>\u001B[0;34m(k)\u001B[0m\n\u001B[1;32m    752\u001B[0m \u001B[38;5;28;01mdef\u001B[39;00m \u001B[38;5;21mrandom_split_impl_base\u001B[39m(impl, base_arr, keys_ndim, \u001B[38;5;241m*\u001B[39m, shape):\n\u001B[0;32m--> 753\u001B[0m   split \u001B[38;5;241m=\u001B[39m iterated_vmap_unary(keys_ndim, \u001B[38;5;28;01mlambda\u001B[39;00m k: \u001B[43mimpl\u001B[49m\u001B[38;5;241;43m.\u001B[39;49m\u001B[43msplit\u001B[49m\u001B[43m(\u001B[49m\u001B[43mk\u001B[49m\u001B[43m,\u001B[49m\u001B[43m \u001B[49m\u001B[43mshape\u001B[49m\u001B[43m)\u001B[49m)\n\u001B[1;32m    754\u001B[0m   \u001B[38;5;28;01mreturn\u001B[39;00m split(base_arr)\n",
      "File \u001B[0;32m~/Research/conditional_dsb/venv/lib/python3.10/site-packages/jax/_src/prng.py:1259\u001B[0m, in \u001B[0;36mthreefry_split\u001B[0;34m(key, shape)\u001B[0m\n\u001B[1;32m   1257\u001B[0m \u001B[38;5;28;01mdef\u001B[39;00m \u001B[38;5;21mthreefry_split\u001B[39m(key: typing\u001B[38;5;241m.\u001B[39mArray, shape: Shape) \u001B[38;5;241m-\u001B[39m\u001B[38;5;241m>\u001B[39m typing\u001B[38;5;241m.\u001B[39mArray:\n\u001B[1;32m   1258\u001B[0m   shape \u001B[38;5;241m=\u001B[39m \u001B[38;5;28mtuple\u001B[39m(unsafe_map(core\u001B[38;5;241m.\u001B[39mconcrete_dim_or_error, shape))\n\u001B[0;32m-> 1259\u001B[0m   \u001B[38;5;28;01mreturn\u001B[39;00m \u001B[43m_threefry_split\u001B[49m\u001B[43m(\u001B[49m\u001B[43mkey\u001B[49m\u001B[43m,\u001B[49m\u001B[43m \u001B[49m\u001B[43mshape\u001B[49m\u001B[43m)\u001B[49m\n",
      "    \u001B[0;31m[... skipping hidden 1 frame]\u001B[0m\n",
      "File \u001B[0;32m~/Research/conditional_dsb/venv/lib/python3.10/site-packages/jax/_src/pjit.py:256\u001B[0m, in \u001B[0;36m_cpp_pjit.<locals>.cache_miss\u001B[0;34m(*args, **kwargs)\u001B[0m\n\u001B[1;32m    254\u001B[0m \u001B[38;5;129m@api_boundary\u001B[39m\n\u001B[1;32m    255\u001B[0m \u001B[38;5;28;01mdef\u001B[39;00m \u001B[38;5;21mcache_miss\u001B[39m(\u001B[38;5;241m*\u001B[39margs, \u001B[38;5;241m*\u001B[39m\u001B[38;5;241m*\u001B[39mkwargs):\n\u001B[0;32m--> 256\u001B[0m   outs, out_flat, out_tree, args_flat, jaxpr \u001B[38;5;241m=\u001B[39m \u001B[43m_python_pjit_helper\u001B[49m\u001B[43m(\u001B[49m\n\u001B[1;32m    257\u001B[0m \u001B[43m      \u001B[49m\u001B[43mfun\u001B[49m\u001B[43m,\u001B[49m\u001B[43m \u001B[49m\u001B[43minfer_params_fn\u001B[49m\u001B[43m,\u001B[49m\u001B[43m \u001B[49m\u001B[38;5;241;43m*\u001B[39;49m\u001B[43margs\u001B[49m\u001B[43m,\u001B[49m\u001B[43m \u001B[49m\u001B[38;5;241;43m*\u001B[39;49m\u001B[38;5;241;43m*\u001B[39;49m\u001B[43mkwargs\u001B[49m\u001B[43m)\u001B[49m\n\u001B[1;32m    258\u001B[0m   executable \u001B[38;5;241m=\u001B[39m _read_most_recent_pjit_call_executable(jaxpr)\n\u001B[1;32m    259\u001B[0m   fastpath_data \u001B[38;5;241m=\u001B[39m _get_fastpath_data(executable, out_tree, args_flat, out_flat)\n",
      "File \u001B[0;32m~/Research/conditional_dsb/venv/lib/python3.10/site-packages/jax/_src/pjit.py:167\u001B[0m, in \u001B[0;36m_python_pjit_helper\u001B[0;34m(fun, infer_params_fn, *args, **kwargs)\u001B[0m\n\u001B[1;32m    165\u001B[0m   dispatch\u001B[38;5;241m.\u001B[39mcheck_arg(arg)\n\u001B[1;32m    166\u001B[0m \u001B[38;5;28;01mtry\u001B[39;00m:\n\u001B[0;32m--> 167\u001B[0m   out_flat \u001B[38;5;241m=\u001B[39m \u001B[43mpjit_p\u001B[49m\u001B[38;5;241;43m.\u001B[39;49m\u001B[43mbind\u001B[49m\u001B[43m(\u001B[49m\u001B[38;5;241;43m*\u001B[39;49m\u001B[43margs_flat\u001B[49m\u001B[43m,\u001B[49m\u001B[43m \u001B[49m\u001B[38;5;241;43m*\u001B[39;49m\u001B[38;5;241;43m*\u001B[39;49m\u001B[43mparams\u001B[49m\u001B[43m)\u001B[49m\n\u001B[1;32m    168\u001B[0m \u001B[38;5;28;01mexcept\u001B[39;00m pxla\u001B[38;5;241m.\u001B[39mDeviceAssignmentMismatchError \u001B[38;5;28;01mas\u001B[39;00m e:\n\u001B[1;32m    169\u001B[0m   fails, \u001B[38;5;241m=\u001B[39m e\u001B[38;5;241m.\u001B[39margs\n",
      "File \u001B[0;32m~/Research/conditional_dsb/venv/lib/python3.10/site-packages/jax/_src/core.py:2656\u001B[0m, in \u001B[0;36mAxisPrimitive.bind\u001B[0;34m(self, *args, **params)\u001B[0m\n\u001B[1;32m   2652\u001B[0m axis_main \u001B[38;5;241m=\u001B[39m \u001B[38;5;28mmax\u001B[39m((axis_frame(a)\u001B[38;5;241m.\u001B[39mmain_trace \u001B[38;5;28;01mfor\u001B[39;00m a \u001B[38;5;129;01min\u001B[39;00m used_axis_names(\u001B[38;5;28mself\u001B[39m, params)),\n\u001B[1;32m   2653\u001B[0m                 default\u001B[38;5;241m=\u001B[39m\u001B[38;5;28;01mNone\u001B[39;00m, key\u001B[38;5;241m=\u001B[39m\u001B[38;5;28;01mlambda\u001B[39;00m t: \u001B[38;5;28mgetattr\u001B[39m(t, \u001B[38;5;124m'\u001B[39m\u001B[38;5;124mlevel\u001B[39m\u001B[38;5;124m'\u001B[39m, \u001B[38;5;241m-\u001B[39m\u001B[38;5;241m1\u001B[39m))\n\u001B[1;32m   2654\u001B[0m top_trace \u001B[38;5;241m=\u001B[39m (top_trace \u001B[38;5;28;01mif\u001B[39;00m \u001B[38;5;129;01mnot\u001B[39;00m axis_main \u001B[38;5;129;01mor\u001B[39;00m axis_main\u001B[38;5;241m.\u001B[39mlevel \u001B[38;5;241m<\u001B[39m top_trace\u001B[38;5;241m.\u001B[39mlevel\n\u001B[1;32m   2655\u001B[0m              \u001B[38;5;28;01melse\u001B[39;00m axis_main\u001B[38;5;241m.\u001B[39mwith_cur_sublevel())\n\u001B[0;32m-> 2656\u001B[0m \u001B[38;5;28;01mreturn\u001B[39;00m \u001B[38;5;28;43mself\u001B[39;49m\u001B[38;5;241;43m.\u001B[39;49m\u001B[43mbind_with_trace\u001B[49m\u001B[43m(\u001B[49m\u001B[43mtop_trace\u001B[49m\u001B[43m,\u001B[49m\u001B[43m \u001B[49m\u001B[43margs\u001B[49m\u001B[43m,\u001B[49m\u001B[43m \u001B[49m\u001B[43mparams\u001B[49m\u001B[43m)\u001B[49m\n",
      "File \u001B[0;32m~/Research/conditional_dsb/venv/lib/python3.10/site-packages/jax/_src/core.py:388\u001B[0m, in \u001B[0;36mPrimitive.bind_with_trace\u001B[0;34m(self, trace, args, params)\u001B[0m\n\u001B[1;32m    387\u001B[0m \u001B[38;5;28;01mdef\u001B[39;00m \u001B[38;5;21mbind_with_trace\u001B[39m(\u001B[38;5;28mself\u001B[39m, trace, args, params):\n\u001B[0;32m--> 388\u001B[0m   out \u001B[38;5;241m=\u001B[39m \u001B[43mtrace\u001B[49m\u001B[38;5;241;43m.\u001B[39;49m\u001B[43mprocess_primitive\u001B[49m\u001B[43m(\u001B[49m\u001B[38;5;28;43mself\u001B[39;49m\u001B[43m,\u001B[49m\u001B[43m \u001B[49m\u001B[38;5;28;43mmap\u001B[39;49m\u001B[43m(\u001B[49m\u001B[43mtrace\u001B[49m\u001B[38;5;241;43m.\u001B[39;49m\u001B[43mfull_raise\u001B[49m\u001B[43m,\u001B[49m\u001B[43m \u001B[49m\u001B[43margs\u001B[49m\u001B[43m)\u001B[49m\u001B[43m,\u001B[49m\u001B[43m \u001B[49m\u001B[43mparams\u001B[49m\u001B[43m)\u001B[49m\n\u001B[1;32m    389\u001B[0m   \u001B[38;5;28;01mreturn\u001B[39;00m \u001B[38;5;28mmap\u001B[39m(full_lower, out) \u001B[38;5;28;01mif\u001B[39;00m \u001B[38;5;28mself\u001B[39m\u001B[38;5;241m.\u001B[39mmultiple_results \u001B[38;5;28;01melse\u001B[39;00m full_lower(out)\n",
      "File \u001B[0;32m~/Research/conditional_dsb/venv/lib/python3.10/site-packages/jax/_src/core.py:868\u001B[0m, in \u001B[0;36mEvalTrace.process_primitive\u001B[0;34m(self, primitive, tracers, params)\u001B[0m\n\u001B[1;32m    867\u001B[0m \u001B[38;5;28;01mdef\u001B[39;00m \u001B[38;5;21mprocess_primitive\u001B[39m(\u001B[38;5;28mself\u001B[39m, primitive, tracers, params):\n\u001B[0;32m--> 868\u001B[0m   \u001B[38;5;28;01mreturn\u001B[39;00m \u001B[43mprimitive\u001B[49m\u001B[38;5;241;43m.\u001B[39;49m\u001B[43mimpl\u001B[49m\u001B[43m(\u001B[49m\u001B[38;5;241;43m*\u001B[39;49m\u001B[43mtracers\u001B[49m\u001B[43m,\u001B[49m\u001B[43m \u001B[49m\u001B[38;5;241;43m*\u001B[39;49m\u001B[38;5;241;43m*\u001B[39;49m\u001B[43mparams\u001B[49m\u001B[43m)\u001B[49m\n",
      "File \u001B[0;32m~/Research/conditional_dsb/venv/lib/python3.10/site-packages/jax/_src/pjit.py:1212\u001B[0m, in \u001B[0;36m_pjit_call_impl\u001B[0;34m(jaxpr, in_shardings, out_shardings, resource_env, donated_invars, name, keep_unused, inline, *args)\u001B[0m\n\u001B[1;32m   1209\u001B[0m donated_argnums \u001B[38;5;241m=\u001B[39m [i \u001B[38;5;28;01mfor\u001B[39;00m i, d \u001B[38;5;129;01min\u001B[39;00m \u001B[38;5;28menumerate\u001B[39m(donated_invars) \u001B[38;5;28;01mif\u001B[39;00m d]\n\u001B[1;32m   1210\u001B[0m has_explicit_sharding \u001B[38;5;241m=\u001B[39m _pjit_explicit_sharding(\n\u001B[1;32m   1211\u001B[0m     in_shardings, out_shardings, \u001B[38;5;28;01mNone\u001B[39;00m, \u001B[38;5;28;01mNone\u001B[39;00m)\n\u001B[0;32m-> 1212\u001B[0m \u001B[38;5;28;01mreturn\u001B[39;00m \u001B[43mxc\u001B[49m\u001B[38;5;241;43m.\u001B[39;49m\u001B[43m_xla\u001B[49m\u001B[38;5;241;43m.\u001B[39;49m\u001B[43mpjit\u001B[49m\u001B[43m(\u001B[49m\u001B[43mname\u001B[49m\u001B[43m,\u001B[49m\u001B[43m \u001B[49m\u001B[43mf\u001B[49m\u001B[43m,\u001B[49m\u001B[43m \u001B[49m\u001B[43mcall_impl_cache_miss\u001B[49m\u001B[43m,\u001B[49m\u001B[43m \u001B[49m\u001B[43m[\u001B[49m\u001B[43m]\u001B[49m\u001B[43m,\u001B[49m\u001B[43m \u001B[49m\u001B[43m[\u001B[49m\u001B[43m]\u001B[49m\u001B[43m,\u001B[49m\u001B[43m \u001B[49m\u001B[43mdonated_argnums\u001B[49m\u001B[43m,\u001B[49m\n\u001B[1;32m   1213\u001B[0m \u001B[43m                    \u001B[49m\u001B[43mtree_util\u001B[49m\u001B[38;5;241;43m.\u001B[39;49m\u001B[43mdispatch_registry\u001B[49m\u001B[43m,\u001B[49m\n\u001B[1;32m   1214\u001B[0m \u001B[43m                    \u001B[49m\u001B[43m_get_cpp_global_cache\u001B[49m\u001B[43m(\u001B[49m\u001B[43mhas_explicit_sharding\u001B[49m\u001B[43m)\u001B[49m\u001B[43m)\u001B[49m\u001B[43m(\u001B[49m\u001B[38;5;241;43m*\u001B[39;49m\u001B[43margs\u001B[49m\u001B[43m)\u001B[49m\n",
      "File \u001B[0;32m~/Research/conditional_dsb/venv/lib/python3.10/site-packages/jax/_src/pjit.py:1196\u001B[0m, in \u001B[0;36m_pjit_call_impl.<locals>.call_impl_cache_miss\u001B[0;34m(*args_, **kwargs_)\u001B[0m\n\u001B[1;32m   1195\u001B[0m \u001B[38;5;28;01mdef\u001B[39;00m \u001B[38;5;21mcall_impl_cache_miss\u001B[39m(\u001B[38;5;241m*\u001B[39margs_, \u001B[38;5;241m*\u001B[39m\u001B[38;5;241m*\u001B[39mkwargs_):\n\u001B[0;32m-> 1196\u001B[0m   out_flat, compiled \u001B[38;5;241m=\u001B[39m \u001B[43m_pjit_call_impl_python\u001B[49m\u001B[43m(\u001B[49m\n\u001B[1;32m   1197\u001B[0m \u001B[43m      \u001B[49m\u001B[38;5;241;43m*\u001B[39;49m\u001B[43margs\u001B[49m\u001B[43m,\u001B[49m\u001B[43m \u001B[49m\u001B[43mjaxpr\u001B[49m\u001B[38;5;241;43m=\u001B[39;49m\u001B[43mjaxpr\u001B[49m\u001B[43m,\u001B[49m\u001B[43m \u001B[49m\u001B[43min_shardings\u001B[49m\u001B[38;5;241;43m=\u001B[39;49m\u001B[43min_shardings\u001B[49m\u001B[43m,\u001B[49m\n\u001B[1;32m   1198\u001B[0m \u001B[43m      \u001B[49m\u001B[43mout_shardings\u001B[49m\u001B[38;5;241;43m=\u001B[39;49m\u001B[43mout_shardings\u001B[49m\u001B[43m,\u001B[49m\u001B[43m \u001B[49m\u001B[43mresource_env\u001B[49m\u001B[38;5;241;43m=\u001B[39;49m\u001B[43mresource_env\u001B[49m\u001B[43m,\u001B[49m\n\u001B[1;32m   1199\u001B[0m \u001B[43m      \u001B[49m\u001B[43mdonated_invars\u001B[49m\u001B[38;5;241;43m=\u001B[39;49m\u001B[43mdonated_invars\u001B[49m\u001B[43m,\u001B[49m\u001B[43m \u001B[49m\u001B[43mname\u001B[49m\u001B[38;5;241;43m=\u001B[39;49m\u001B[43mname\u001B[49m\u001B[43m,\u001B[49m\u001B[43m \u001B[49m\u001B[43mkeep_unused\u001B[49m\u001B[38;5;241;43m=\u001B[39;49m\u001B[43mkeep_unused\u001B[49m\u001B[43m,\u001B[49m\n\u001B[1;32m   1200\u001B[0m \u001B[43m      \u001B[49m\u001B[43minline\u001B[49m\u001B[38;5;241;43m=\u001B[39;49m\u001B[43minline\u001B[49m\u001B[43m)\u001B[49m\n\u001B[1;32m   1201\u001B[0m   fastpath_data \u001B[38;5;241m=\u001B[39m _get_fastpath_data(\n\u001B[1;32m   1202\u001B[0m       compiled, tree_structure(out_flat), args, out_flat)\n\u001B[1;32m   1203\u001B[0m   \u001B[38;5;28;01mreturn\u001B[39;00m out_flat, fastpath_data\n",
      "File \u001B[0;32m~/Research/conditional_dsb/venv/lib/python3.10/site-packages/jax/_src/pjit.py:1132\u001B[0m, in \u001B[0;36m_pjit_call_impl_python\u001B[0;34m(jaxpr, in_shardings, out_shardings, resource_env, donated_invars, name, keep_unused, inline, *args)\u001B[0m\n\u001B[1;32m   1123\u001B[0m \u001B[38;5;28;01mglobal\u001B[39;00m _most_recent_pjit_call_executable\n\u001B[1;32m   1125\u001B[0m in_shardings \u001B[38;5;241m=\u001B[39m _resolve_in_shardings(\n\u001B[1;32m   1126\u001B[0m     args, in_shardings, out_shardings,\n\u001B[1;32m   1127\u001B[0m     resource_env\u001B[38;5;241m.\u001B[39mphysical_mesh \u001B[38;5;28;01mif\u001B[39;00m resource_env \u001B[38;5;129;01mis\u001B[39;00m \u001B[38;5;129;01mnot\u001B[39;00m \u001B[38;5;28;01mNone\u001B[39;00m \u001B[38;5;28;01melse\u001B[39;00m \u001B[38;5;28;01mNone\u001B[39;00m)\n\u001B[1;32m   1129\u001B[0m compiled \u001B[38;5;241m=\u001B[39m \u001B[43m_pjit_lower\u001B[49m\u001B[43m(\u001B[49m\n\u001B[1;32m   1130\u001B[0m \u001B[43m    \u001B[49m\u001B[43mjaxpr\u001B[49m\u001B[43m,\u001B[49m\u001B[43m \u001B[49m\u001B[43min_shardings\u001B[49m\u001B[43m,\u001B[49m\u001B[43m \u001B[49m\u001B[43mout_shardings\u001B[49m\u001B[43m,\u001B[49m\u001B[43m \u001B[49m\u001B[43mresource_env\u001B[49m\u001B[43m,\u001B[49m\n\u001B[1;32m   1131\u001B[0m \u001B[43m    \u001B[49m\u001B[43mdonated_invars\u001B[49m\u001B[43m,\u001B[49m\u001B[43m \u001B[49m\u001B[43mname\u001B[49m\u001B[43m,\u001B[49m\u001B[43m \u001B[49m\u001B[43mkeep_unused\u001B[49m\u001B[43m,\u001B[49m\u001B[43m \u001B[49m\u001B[43minline\u001B[49m\u001B[43m,\u001B[49m\n\u001B[0;32m-> 1132\u001B[0m \u001B[43m    \u001B[49m\u001B[43mlowering_parameters\u001B[49m\u001B[38;5;241;43m=\u001B[39;49m\u001B[43mmlir\u001B[49m\u001B[38;5;241;43m.\u001B[39;49m\u001B[43mLoweringParameters\u001B[49m\u001B[43m(\u001B[49m\u001B[43m)\u001B[49m\u001B[43m)\u001B[49m\u001B[38;5;241;43m.\u001B[39;49m\u001B[43mcompile\u001B[49m\u001B[43m(\u001B[49m\u001B[43m)\u001B[49m\n\u001B[1;32m   1133\u001B[0m _most_recent_pjit_call_executable\u001B[38;5;241m.\u001B[39mweak_key_dict[jaxpr] \u001B[38;5;241m=\u001B[39m compiled\n\u001B[1;32m   1134\u001B[0m \u001B[38;5;66;03m# This check is expensive so only do it if enable_checks is on.\u001B[39;00m\n",
      "File \u001B[0;32m~/Research/conditional_dsb/venv/lib/python3.10/site-packages/jax/_src/interpreters/pxla.py:2258\u001B[0m, in \u001B[0;36mMeshComputation.compile\u001B[0;34m(self, compiler_options)\u001B[0m\n\u001B[1;32m   2256\u001B[0m \u001B[38;5;28;01mdef\u001B[39;00m \u001B[38;5;21mcompile\u001B[39m(\u001B[38;5;28mself\u001B[39m, compiler_options\u001B[38;5;241m=\u001B[39m\u001B[38;5;28;01mNone\u001B[39;00m) \u001B[38;5;241m-\u001B[39m\u001B[38;5;241m>\u001B[39m MeshExecutable:\n\u001B[1;32m   2257\u001B[0m   \u001B[38;5;28;01mif\u001B[39;00m \u001B[38;5;28mself\u001B[39m\u001B[38;5;241m.\u001B[39m_executable \u001B[38;5;129;01mis\u001B[39;00m \u001B[38;5;28;01mNone\u001B[39;00m \u001B[38;5;129;01mor\u001B[39;00m compiler_options \u001B[38;5;129;01mis\u001B[39;00m \u001B[38;5;129;01mnot\u001B[39;00m \u001B[38;5;28;01mNone\u001B[39;00m:\n\u001B[0;32m-> 2258\u001B[0m     executable \u001B[38;5;241m=\u001B[39m \u001B[43mUnloadedMeshExecutable\u001B[49m\u001B[38;5;241;43m.\u001B[39;49m\u001B[43mfrom_hlo\u001B[49m\u001B[43m(\u001B[49m\n\u001B[1;32m   2259\u001B[0m \u001B[43m        \u001B[49m\u001B[38;5;28;43mself\u001B[39;49m\u001B[38;5;241;43m.\u001B[39;49m\u001B[43m_name\u001B[49m\u001B[43m,\u001B[49m\u001B[43m \u001B[49m\u001B[38;5;28;43mself\u001B[39;49m\u001B[38;5;241;43m.\u001B[39;49m\u001B[43m_hlo\u001B[49m\u001B[43m,\u001B[49m\u001B[43m \u001B[49m\u001B[38;5;241;43m*\u001B[39;49m\u001B[38;5;241;43m*\u001B[39;49m\u001B[38;5;28;43mself\u001B[39;49m\u001B[38;5;241;43m.\u001B[39;49m\u001B[43mcompile_args\u001B[49m\u001B[43m,\u001B[49m\n\u001B[1;32m   2260\u001B[0m \u001B[43m        \u001B[49m\u001B[43mcompiler_options\u001B[49m\u001B[38;5;241;43m=\u001B[39;49m\u001B[43mcompiler_options\u001B[49m\u001B[43m)\u001B[49m\n\u001B[1;32m   2261\u001B[0m     \u001B[38;5;28;01mif\u001B[39;00m compiler_options \u001B[38;5;129;01mis\u001B[39;00m \u001B[38;5;28;01mNone\u001B[39;00m:\n\u001B[1;32m   2262\u001B[0m       \u001B[38;5;28mself\u001B[39m\u001B[38;5;241m.\u001B[39m_executable \u001B[38;5;241m=\u001B[39m executable\n",
      "File \u001B[0;32m~/Research/conditional_dsb/venv/lib/python3.10/site-packages/jax/_src/interpreters/pxla.py:2606\u001B[0m, in \u001B[0;36mUnloadedMeshExecutable.from_hlo\u001B[0;34m(***failed resolving arguments***)\u001B[0m\n\u001B[1;32m   2603\u001B[0m       mesh \u001B[38;5;241m=\u001B[39m i\u001B[38;5;241m.\u001B[39mmesh  \u001B[38;5;66;03m# type: ignore\u001B[39;00m\n\u001B[1;32m   2604\u001B[0m       \u001B[38;5;28;01mbreak\u001B[39;00m\n\u001B[0;32m-> 2606\u001B[0m xla_executable, compile_options \u001B[38;5;241m=\u001B[39m \u001B[43m_cached_compilation\u001B[49m\u001B[43m(\u001B[49m\n\u001B[1;32m   2607\u001B[0m \u001B[43m    \u001B[49m\u001B[43mhlo\u001B[49m\u001B[43m,\u001B[49m\u001B[43m \u001B[49m\u001B[43mname\u001B[49m\u001B[43m,\u001B[49m\u001B[43m \u001B[49m\u001B[43mmesh\u001B[49m\u001B[43m,\u001B[49m\u001B[43m \u001B[49m\u001B[43mspmd_lowering\u001B[49m\u001B[43m,\u001B[49m\n\u001B[1;32m   2608\u001B[0m \u001B[43m    \u001B[49m\u001B[43mtuple_args\u001B[49m\u001B[43m,\u001B[49m\u001B[43m \u001B[49m\u001B[43mauto_spmd_lowering\u001B[49m\u001B[43m,\u001B[49m\u001B[43m \u001B[49m\u001B[43mallow_prop_to_outputs\u001B[49m\u001B[43m,\u001B[49m\n\u001B[1;32m   2609\u001B[0m \u001B[43m    \u001B[49m\u001B[38;5;28;43mtuple\u001B[39;49m\u001B[43m(\u001B[49m\u001B[43mhost_callbacks\u001B[49m\u001B[43m)\u001B[49m\u001B[43m,\u001B[49m\u001B[43m \u001B[49m\u001B[43mbackend\u001B[49m\u001B[43m,\u001B[49m\u001B[43m \u001B[49m\u001B[43mda\u001B[49m\u001B[43m,\u001B[49m\u001B[43m \u001B[49m\u001B[43mpmap_nreps\u001B[49m\u001B[43m,\u001B[49m\n\u001B[1;32m   2610\u001B[0m \u001B[43m    \u001B[49m\u001B[43mcompiler_options_keys\u001B[49m\u001B[43m,\u001B[49m\u001B[43m \u001B[49m\u001B[43mcompiler_options_values\u001B[49m\u001B[43m)\u001B[49m\n\u001B[1;32m   2612\u001B[0m \u001B[38;5;28;01mif\u001B[39;00m \u001B[38;5;28mhasattr\u001B[39m(backend, \u001B[38;5;124m\"\u001B[39m\u001B[38;5;124mcompile_replicated\u001B[39m\u001B[38;5;124m\"\u001B[39m):\n\u001B[1;32m   2613\u001B[0m   semantics_in_shardings \u001B[38;5;241m=\u001B[39m SemanticallyEqualShardings(in_shardings)  \u001B[38;5;66;03m# type: ignore\u001B[39;00m\n",
      "File \u001B[0;32m~/Research/conditional_dsb/venv/lib/python3.10/site-packages/jax/_src/interpreters/pxla.py:2513\u001B[0m, in \u001B[0;36m_cached_compilation\u001B[0;34m(computation, name, mesh, spmd_lowering, tuple_args, auto_spmd_lowering, _allow_propagation_to_outputs, host_callbacks, backend, da, pmap_nreps, compiler_options_keys, compiler_options_values)\u001B[0m\n\u001B[1;32m   2508\u001B[0m   \u001B[38;5;28;01mreturn\u001B[39;00m \u001B[38;5;28;01mNone\u001B[39;00m, compile_options\n\u001B[1;32m   2510\u001B[0m \u001B[38;5;28;01mwith\u001B[39;00m dispatch\u001B[38;5;241m.\u001B[39mlog_elapsed_time(\n\u001B[1;32m   2511\u001B[0m     \u001B[38;5;124m\"\u001B[39m\u001B[38;5;124mFinished XLA compilation of \u001B[39m\u001B[38;5;132;01m{fun_name}\u001B[39;00m\u001B[38;5;124m in \u001B[39m\u001B[38;5;132;01m{elapsed_time}\u001B[39;00m\u001B[38;5;124m sec\u001B[39m\u001B[38;5;124m\"\u001B[39m,\n\u001B[1;32m   2512\u001B[0m     fun_name\u001B[38;5;241m=\u001B[39mname, event\u001B[38;5;241m=\u001B[39mdispatch\u001B[38;5;241m.\u001B[39mBACKEND_COMPILE_EVENT):\n\u001B[0;32m-> 2513\u001B[0m   xla_executable \u001B[38;5;241m=\u001B[39m \u001B[43mcompiler\u001B[49m\u001B[38;5;241;43m.\u001B[39;49m\u001B[43mcompile_or_get_cached\u001B[49m\u001B[43m(\u001B[49m\n\u001B[1;32m   2514\u001B[0m \u001B[43m      \u001B[49m\u001B[43mbackend\u001B[49m\u001B[43m,\u001B[49m\u001B[43m \u001B[49m\u001B[43mcomputation\u001B[49m\u001B[43m,\u001B[49m\u001B[43m \u001B[49m\u001B[43mdev\u001B[49m\u001B[43m,\u001B[49m\u001B[43m \u001B[49m\u001B[43mcompile_options\u001B[49m\u001B[43m,\u001B[49m\u001B[43m \u001B[49m\u001B[43mhost_callbacks\u001B[49m\u001B[43m)\u001B[49m\n\u001B[1;32m   2515\u001B[0m \u001B[38;5;28;01mreturn\u001B[39;00m xla_executable, compile_options\n",
      "File \u001B[0;32m~/Research/conditional_dsb/venv/lib/python3.10/site-packages/jax/_src/compiler.py:295\u001B[0m, in \u001B[0;36mcompile_or_get_cached\u001B[0;34m(backend, computation, devices, compile_options, host_callbacks)\u001B[0m\n\u001B[1;32m    291\u001B[0m use_compilation_cache \u001B[38;5;241m=\u001B[39m (compilation_cache\u001B[38;5;241m.\u001B[39mis_initialized() \u001B[38;5;129;01mand\u001B[39;00m\n\u001B[1;32m    292\u001B[0m                          backend\u001B[38;5;241m.\u001B[39mplatform \u001B[38;5;129;01min\u001B[39;00m supported_platforms)\n\u001B[1;32m    294\u001B[0m \u001B[38;5;28;01mif\u001B[39;00m \u001B[38;5;129;01mnot\u001B[39;00m use_compilation_cache:\n\u001B[0;32m--> 295\u001B[0m   \u001B[38;5;28;01mreturn\u001B[39;00m \u001B[43mbackend_compile\u001B[49m\u001B[43m(\u001B[49m\u001B[43mbackend\u001B[49m\u001B[43m,\u001B[49m\u001B[43m \u001B[49m\u001B[43mcomputation\u001B[49m\u001B[43m,\u001B[49m\u001B[43m \u001B[49m\u001B[43mcompile_options\u001B[49m\u001B[43m,\u001B[49m\n\u001B[1;32m    296\u001B[0m \u001B[43m                         \u001B[49m\u001B[43mhost_callbacks\u001B[49m\u001B[43m)\u001B[49m\n\u001B[1;32m    298\u001B[0m \u001B[38;5;28;01mglobal\u001B[39;00m _cache_used\n\u001B[1;32m    299\u001B[0m \u001B[38;5;28;01mif\u001B[39;00m \u001B[38;5;129;01mnot\u001B[39;00m _cache_used:\n",
      "File \u001B[0;32m~/Research/conditional_dsb/venv/lib/python3.10/site-packages/jax/_src/profiler.py:340\u001B[0m, in \u001B[0;36mannotate_function.<locals>.wrapper\u001B[0;34m(*args, **kwargs)\u001B[0m\n\u001B[1;32m    337\u001B[0m \u001B[38;5;129m@wraps\u001B[39m(func)\n\u001B[1;32m    338\u001B[0m \u001B[38;5;28;01mdef\u001B[39;00m \u001B[38;5;21mwrapper\u001B[39m(\u001B[38;5;241m*\u001B[39margs, \u001B[38;5;241m*\u001B[39m\u001B[38;5;241m*\u001B[39mkwargs):\n\u001B[1;32m    339\u001B[0m   \u001B[38;5;28;01mwith\u001B[39;00m TraceAnnotation(name, \u001B[38;5;241m*\u001B[39m\u001B[38;5;241m*\u001B[39mdecorator_kwargs):\n\u001B[0;32m--> 340\u001B[0m     \u001B[38;5;28;01mreturn\u001B[39;00m \u001B[43mfunc\u001B[49m\u001B[43m(\u001B[49m\u001B[38;5;241;43m*\u001B[39;49m\u001B[43margs\u001B[49m\u001B[43m,\u001B[49m\u001B[43m \u001B[49m\u001B[38;5;241;43m*\u001B[39;49m\u001B[38;5;241;43m*\u001B[39;49m\u001B[43mkwargs\u001B[49m\u001B[43m)\u001B[49m\n\u001B[1;32m    341\u001B[0m   \u001B[38;5;28;01mreturn\u001B[39;00m wrapper\n",
      "File \u001B[0;32m~/Research/conditional_dsb/venv/lib/python3.10/site-packages/jax/_src/compiler.py:255\u001B[0m, in \u001B[0;36mbackend_compile\u001B[0;34m(backend, module, options, host_callbacks)\u001B[0m\n\u001B[1;32m    250\u001B[0m   \u001B[38;5;28;01mreturn\u001B[39;00m backend\u001B[38;5;241m.\u001B[39mcompile(built_c, compile_options\u001B[38;5;241m=\u001B[39moptions,\n\u001B[1;32m    251\u001B[0m                          host_callbacks\u001B[38;5;241m=\u001B[39mhost_callbacks)\n\u001B[1;32m    252\u001B[0m \u001B[38;5;66;03m# Some backends don't have `host_callbacks` option yet\u001B[39;00m\n\u001B[1;32m    253\u001B[0m \u001B[38;5;66;03m# TODO(sharadmv): remove this fallback when all backends allow `compile`\u001B[39;00m\n\u001B[1;32m    254\u001B[0m \u001B[38;5;66;03m# to take in `host_callbacks`\u001B[39;00m\n\u001B[0;32m--> 255\u001B[0m \u001B[38;5;28;01mreturn\u001B[39;00m \u001B[43mbackend\u001B[49m\u001B[38;5;241;43m.\u001B[39;49m\u001B[43mcompile\u001B[49m\u001B[43m(\u001B[49m\u001B[43mbuilt_c\u001B[49m\u001B[43m,\u001B[49m\u001B[43m \u001B[49m\u001B[43mcompile_options\u001B[49m\u001B[38;5;241;43m=\u001B[39;49m\u001B[43moptions\u001B[49m\u001B[43m)\u001B[49m\n",
      "\u001B[0;31mKeyboardInterrupt\u001B[0m: "
     ]
    }
   ],
   "source": [
    "# Define the noising forward reference\n",
    "def drift(xt, xT, t):\n",
    "    \"\"\"Drift of Brownian bridge SDE.\n",
    "    \"\"\"\n",
    "    return (xT - xt) / (T - t)\n",
    "\n",
    "\n",
    "def simulate_bridge_forward(x0, xT, _key):\n",
    "    def scan_body(carry, elem):\n",
    "        x = carry\n",
    "        t, dw = elem\n",
    "        x = x + drift(x, xT, t) * dt + dw\n",
    "        return x, x\n",
    "\n",
    "    _, _subkey = jax.random.split(_key)\n",
    "    rnds = math.sqrt(dt) * jax.random.normal(_subkey, (nsteps - 1, 2))\n",
    "    traj = jax.lax.scan(scan_body, x0, (ts[:-1], rnds))[1]\n",
    "    return jnp.concatenate([traj, xT.reshape(1, -1)])\n",
    "\n",
    "\n",
    "key, subkey = jax.random.split(key)\n",
    "keys = jax.random.split(subkey, num=nsamples)\n",
    "trajs = jax.vmap(simulate_bridge_forward, in_axes=[0, 0, 0])(xs, ys, keys)\n",
    "\n",
    "fig, axes = plt.subplots(ncols=5, figsize=(12, 5))\n",
    "axes[0].scatter(xs[:, 0], xs[:, 1], s=1)\n",
    "axes[1].scatter(trajs[:, 0, 0], trajs[:, 0, 1], s=1)\n",
    "axes[2].scatter(trajs[:, 49, 0], trajs[:, 49, 1], s=1)\n",
    "axes[-2].scatter(trajs[:, -2, 0], trajs[:, -2, 1], s=1)\n",
    "axes[-1].scatter(trajs[:, -1, 0], trajs[:, -1, 1], s=1)\n",
    "plt.tight_layout(pad=0.1)"
   ],
   "metadata": {
    "collapsed": false,
    "ExecuteTime": {
     "end_time": "2023-11-09T08:04:40.897868215Z",
     "start_time": "2023-11-09T08:04:39.079323547Z"
    }
   },
   "id": "932cef8c869ce36f"
  },
  {
   "cell_type": "code",
   "execution_count": null,
   "outputs": [],
   "source": [
    "scales = (T - ts) * ts / (T * dt) + 1e-8\n",
    "\n",
    "\n",
    "def cond_pdf_t_0(xt, t, xT, x0):\n",
    "    mt, vt = x0 + t / T * (xT - x0), (T - t) * t / T + 1e-8\n",
    "    return jnp.sum(jax.scipy.stats.norm.logpdf(xt, mt, jnp.sqrt(vt)), axis=-1)\n",
    "\n",
    "\n",
    "@partial(jax.vmap, in_axes=[0, None, 0, 0])\n",
    "@partial(jax.vmap, in_axes=[0, 0, None, None])\n",
    "def cond_score_t_0(xt, t, xT, x0):\n",
    "    return jax.grad(cond_pdf_t_0)(xt, t, xT, x0)\n",
    "\n",
    "\n",
    "def loss_fn(_param, _key, overfit=True):\n",
    "    if overfit:\n",
    "        _xs = xs\n",
    "        _ys = ys\n",
    "        _keys = jax.random.split(_key, num=nsamples)\n",
    "    else:\n",
    "        _key, _subkey = jax.random.split(_key)\n",
    "        _zs = jax.random.normal(_subkey, (nsamples, 2))\n",
    "        _xs = f1(zs)\n",
    "        _ys = f2(xs)\n",
    "        _keys = jax.random.split(_subkey, num=nsamples)\n",
    "    forward_paths = jax.vmap(simulate_bridge_forward, in_axes=[0, 0, 0])(_xs, _ys, _keys)  # (nsamples, nsteps, 2)\n",
    "    errs = (jax.vmap(jax.vmap(nn_eval,\n",
    "                              in_axes=[0, 0, None]),\n",
    "                     in_axes=[0, None, None])(forward_paths, ts, _param) -\n",
    "            cond_score_t_0(forward_paths, ts, _ys, _xs)) ** 2  # (nsamples, nsteps, 2)\n",
    "    return jnp.sum(jnp.mean(errs, 0))\n",
    "\n",
    "\n",
    "@jax.jit\n",
    "def opt_step_kernel(_param, _opt_state, _key):\n",
    "    _loss, grad = jax.value_and_grad(loss_fn)(_param, _key)\n",
    "    updates, _opt_state = optimiser.update(grad, _opt_state, _param)\n",
    "    _param = optax.apply_updates(_param, updates)\n",
    "    return _param, _opt_state, _loss\n",
    "\n",
    "\n",
    "optimiser = optax.adam(learning_rate=1e-2)\n",
    "opt_state = optimiser.init(init_param)\n",
    "param = init_param\n",
    "\n",
    "for i in range(10000):\n",
    "    key, subkey = jax.random.split(key)\n",
    "    param, opt_state, loss = opt_step_kernel(param, opt_state, subkey)\n",
    "    print(f'i: {i}, loss: {loss}')\n",
    "\n",
    "np.save('param_sdsb', param)"
   ],
   "metadata": {
    "collapsed": false,
    "ExecuteTime": {
     "start_time": "2023-11-09T08:04:40.899929212Z"
    }
   },
   "id": "7fdf2509ea9e7277"
  },
  {
   "cell_type": "code",
   "execution_count": null,
   "outputs": [],
   "source": [
    "# Backward sampling\n",
    "def simulate_backward(xT, _key):\n",
    "    def scan_body(carry, elem):\n",
    "        x = carry\n",
    "        t, dw = elem\n",
    "\n",
    "        x = x + (-drift(x, xT, T - t) + nn_eval(x, T - t, param)) * dt + dw\n",
    "        return x, x\n",
    "\n",
    "    _, _subkey = jax.random.split(_key)\n",
    "    dws = jnp.sqrt(dt) * jax.random.normal(_subkey, (nsteps, 2))\n",
    "    return jax.lax.scan(scan_body, xT, (ts, dws))[1]\n",
    "\n",
    "\n",
    "key, subkey = jax.random.split(key)\n",
    "keys = jax.random.split(subkey, num=nsamples)\n",
    "backward_traj = jax.vmap(simulate_backward, in_axes=[0, 0])(ys, keys)\n",
    "\n",
    "fig, axes = plt.subplots(ncols=2, figsize=(12, 5))\n",
    "axes[0].scatter(xs[:, 0], xs[:, 1], s=1)\n",
    "axes[1].scatter(ys[:, 0], ys[:, 1], s=1)\n",
    "plt.show()\n",
    "\n",
    "fig, axes = plt.subplots(ncols=2, figsize=(12, 5))\n",
    "axes[0].scatter(ys[:, 0], ys[:, 1], s=1)\n",
    "axes[1].scatter(backward_traj[:, -1, 0], backward_traj[:, -1, 1], s=1)\n",
    "plt.tight_layout(pad=0.1)\n",
    "\n",
    "# Mark\n",
    "idx = 0\n",
    "key, subkey = jax.random.split(key)\n",
    "keys = jax.random.split(subkey, num=nsamples)\n",
    "mark_y = ys[idx]\n",
    "mark_xs = jax.vmap(simulate_backward, in_axes=[None, 0])(mark_y, keys)\n",
    "axes[0].scatter(mark_y[0], mark_y[1], s=10, c='tab:red')\n",
    "axes[1].scatter(mark_xs[:, 0], mark_xs[:, 1], s=10, c='black', alpha=0.5, marker='x')\n",
    "axes[1].scatter(xs[idx, 0], xs[idx, 1], s=10, c='tab:red', marker='x')"
   ],
   "metadata": {
    "collapsed": false,
    "ExecuteTime": {
     "end_time": "2023-11-09T08:04:40.958587967Z",
     "start_time": "2023-11-09T08:04:40.941012040Z"
    }
   },
   "id": "e8f56e81c7da0a7e"
  },
  {
   "cell_type": "code",
   "execution_count": null,
   "outputs": [],
   "source": [],
   "metadata": {
    "collapsed": false,
    "ExecuteTime": {
     "start_time": "2023-11-09T08:04:40.941192420Z"
    }
   },
   "id": "564ff919b8dfdc06"
  }
 ],
 "metadata": {
  "kernelspec": {
   "display_name": "Python 3",
   "language": "python",
   "name": "python3"
  },
  "language_info": {
   "codemirror_mode": {
    "name": "ipython",
    "version": 2
   },
   "file_extension": ".py",
   "mimetype": "text/x-python",
   "name": "python",
   "nbconvert_exporter": "python",
   "pygments_lexer": "ipython2",
   "version": "2.7.6"
  }
 },
 "nbformat": 4,
 "nbformat_minor": 5
}
